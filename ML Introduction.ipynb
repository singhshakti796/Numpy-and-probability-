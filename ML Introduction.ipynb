{
 "cells": [
  {
   "cell_type": "markdown",
   "metadata": {},
   "source": [
    "Data plays an important role in Machine learning.\n",
    "\n",
    "The statistical perspective frames data in the context of a hypothetical function (f) that the\n",
    "machine learning algorithm is trying to learn. That is, given some input variables (input), what\n",
    "is the predicted output variable (output).\n",
    "\n",
    "                            Output = f(Input)\n",
    "    \n",
    "Those columns that are the inputs are referred to as input variables. Whereas the column of\n",
    "data that you may not always have and that you would like to predict for new input data in the\n",
    "future is called the output variable. It is also called the response variable.\n",
    "\n",
    "                            OutputV ariable = f(InputV ariables)\n",
    "    \n",
    "In the case when we have more than one input variables then in that case group of input variables\n",
    "are referred to as the input vector.\n",
    "\n",
    "                            OutputV ariable = f(InputV ector)\n",
    "    \n",
    "                            DependentV ariable = f(IndependentV ariables)\n",
    "        \n",
    "The data is described using a short hand in equations and descriptions of machine learning\n",
    "algorithms. The standard shorthand used in the statistical perspective is to refer to the input\n",
    "variables as capital x (X) and the output variables as capital y (Y ).\n",
    "\n",
    "                            Y = f(X)\n",
    "    "
   ]
  },
  {
   "cell_type": "markdown",
   "metadata": {},
   "source": [
    "### Computer Science Perspective"
   ]
  },
  {
   "cell_type": "markdown",
   "metadata": {},
   "source": [
    "There is a lot of overlap in the computer science terminology for data with the statistical perspective. A row often describes an entity (like a person)\n",
    "or an observation about an entity. As such, the columns for a row are often referred to as attributes of the observation. When modeling a problem and making predictions, we may refer\n",
    "to input attributes and output attributes.\n",
    "\n",
    "                            OutputAttribute = Program(InputAttributes)\n",
    "    \n",
    "Another name for columns is features, used for the same reason as attribute, where a feature describes some property of the observation. This is more common when working with data where\n",
    "features must be extracted from the raw data in order to construct an observation. Examples of this include analog data like images, audio and video.\n",
    "\n",
    "                            Output = Program(InputF eatures)"
   ]
  },
  {
   "cell_type": "markdown",
   "metadata": {},
   "source": [
    "###                                          Model = Algorithm(Data)"
   ]
  },
  {
   "cell_type": "markdown",
   "metadata": {},
   "source": [
    "."
   ]
  },
  {
   "cell_type": "markdown",
   "metadata": {},
   "source": [
    "## Learning a Function"
   ]
  },
  {
   "cell_type": "markdown",
   "metadata": {},
   "source": [
    "Machine learning algorithms are described as learning a target function (f) that best maps input variables (X) to an output variable (Y ).\n",
    "\n",
    "                            Y = f(X)\n",
    "    \n",
    "This is a general learning task where we would like to make predictions in the future (Y ) given new examples of input variables (X). We don't know what the function (f) looks like\n",
    "or its form. If we did, we would use it directly and we would not need to learn it from data using machine learning algorithms. It is harder than you think. There is also error (e) that is\n",
    "independent of the input data (X).\n",
    "\n",
    "\n",
    "                            Y = f(X) + e\n",
    "    \n",
    "    \n",
    "This error might be error such as not having enough attributes to su\u000eciently characterize the best mapping from X to Y .\n"
   ]
  },
  {
   "cell_type": "markdown",
   "metadata": {},
   "source": [
    "## Supervised Machine Learning"
   ]
  },
  {
   "cell_type": "markdown",
   "metadata": {},
   "source": [
    "The majority of practical machine learning uses supervised learning. Supervised learning is where you have input variables (X) and an output variable (Y ) and you use an algorithm to\n",
    "learn the mapping function from the input to the output.\n",
    "\n",
    "                                      Y = f(X)\n",
    "    \n",
    "The goal is to approximate the mapping function so well that when you have new input data (X) that you can predict the output variables (Y ) for that data. It is called supervised learning\n",
    "because the process of an algorithm learning from the training dataset can be thought of as a teacher supervising the learning process.\n",
    "\n",
    "Supervised learning problems can be further grouped into regression and classification problems.\n",
    "\n",
    "---Classification: A classification problem is when the output variable is a category, such as red or blue or disease and no disease.\n",
    "    \n",
    "---Regression: A regression problem is when the output variable is a real value, such as dollars or weight."
   ]
  },
  {
   "cell_type": "markdown",
   "metadata": {},
   "source": [
    "Some popular examples of supervised machine learning algorithms are:\n",
    "    \n",
    "---Linear regression for regression problems.\n",
    "\n",
    "---Random forest for classification and regression problems.\n",
    "\n",
    "---Support vector machines for classification problems."
   ]
  },
  {
   "cell_type": "markdown",
   "metadata": {},
   "source": [
    "## Unsupervised Machine Learning"
   ]
  },
  {
   "cell_type": "markdown",
   "metadata": {},
   "source": [
    "Unsupervised learning is where you only have input data (X) and no corresponding output variables. The goal for unsupervised learning is to model the underlying structure or distribution\n",
    "in the data in order to learn more about the data.\n",
    "\n",
    "This is called unsupervised learning because unlike supervised learning above there is no correct answers and there is no teacher. Algorithms are left to their own devises to discover and\n",
    "present the interesting structure in the data. Unsupervised learning problems can be further grouped into clustering and association problems.\n",
    "\n",
    "\n",
    "---Clustering: A clustering problem is where you want to discover the inherent groupings in the data, such as grouping customers by purchasing behavior.\n",
    "    \n",
    "---Association: An association rule learning problem is where you want to discover rules that describe large portions of your data, such as people that buy A also tend to buy B."
   ]
  },
  {
   "cell_type": "markdown",
   "metadata": {},
   "source": [
    "Some popular examples of unsupervised learning algorithms are:\n",
    "    \n",
    "--- k-means for clustering problems\n",
    "\n",
    "--- Apriori algorithm for association rule learning problems."
   ]
  },
  {
   "cell_type": "markdown",
   "metadata": {},
   "source": [
    "## Overfitting in Machine Learning"
   ]
  },
  {
   "cell_type": "markdown",
   "metadata": {},
   "source": [
    "Overfitting refers to a model that models the training data too well. Overfitting happens when a model learns the detail and noise in the training data to the extent that it negatively impacts\n",
    "the performance on the model on new data. This means that the noise or random fluctuations in the training data is picked up and learned as concepts by the model. The problem is that\n",
    "these concepts do not apply to new data and negatively impact the models ability to generalize.\n",
    "\n",
    "Overfitting is more likely with nonparametric and nonlinear models that have more exibility when learning a target function. As such, many nonparametric machine learning algorithms\n",
    "also include parameters or techniques to limit and constrain how much detail the model learns.\n",
    "\n",
    "For example, decision trees are a nonparametric machine learning algorithm that is very flexible and is subject to overfitting training data."
   ]
  },
  {
   "cell_type": "markdown",
   "metadata": {},
   "source": [
    "## Underfitting in Machine Learning"
   ]
  },
  {
   "cell_type": "markdown",
   "metadata": {},
   "source": [
    "Underfitting refers to a model that can neither model the training data nor generalize to new\n",
    "data. An underfit machine learning model is not a suitable model and will be obvious as it will\n",
    "have poor performance on the training data.\n",
    "\n",
    "Underfitting is often not discussed as it is easy to\n",
    "detect given a good performance metric. The remedy is to move on and try alternate machine\n",
    "learning algorithms. Nevertheless, it does provide good contrast to the problem of concept of\n",
    "overfitting."
   ]
  },
  {
   "cell_type": "code",
   "execution_count": null,
   "metadata": {
    "collapsed": true
   },
   "outputs": [],
   "source": []
  }
 ],
 "metadata": {
  "kernelspec": {
   "display_name": "Python 3",
   "language": "python",
   "name": "python3"
  },
  "language_info": {
   "codemirror_mode": {
    "name": "ipython",
    "version": 3
   },
   "file_extension": ".py",
   "mimetype": "text/x-python",
   "name": "python",
   "nbconvert_exporter": "python",
   "pygments_lexer": "ipython3",
   "version": "3.6.5"
  }
 },
 "nbformat": 4,
 "nbformat_minor": 2
}
