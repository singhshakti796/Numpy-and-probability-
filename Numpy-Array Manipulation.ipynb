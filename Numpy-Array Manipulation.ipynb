{
 "cells": [
  {
   "cell_type": "markdown",
   "metadata": {},
   "source": [
    "### Changing Shape"
   ]
  },
  {
   "cell_type": "code",
   "execution_count": 1,
   "metadata": {
    "collapsed": true
   },
   "outputs": [],
   "source": [
    "#reshape we have studied in other files"
   ]
  },
  {
   "cell_type": "code",
   "execution_count": 2,
   "metadata": {
    "collapsed": true
   },
   "outputs": [],
   "source": [
    "#flat --> A 1-D iterator over the array"
   ]
  },
  {
   "cell_type": "code",
   "execution_count": 3,
   "metadata": {},
   "outputs": [
    {
     "name": "stdout",
     "output_type": "stream",
     "text": [
      "The original array:\n",
      "[[0 1 2 3]\n",
      " [4 5 6 7]]\n",
      "\n",
      "\n",
      "After applying the flat function:\n",
      "[0 1 2 3 4]\n"
     ]
    }
   ],
   "source": [
    "import numpy as np \n",
    "a = np.arange(8).reshape(2,4) \n",
    "print ('The original array:' )\n",
    "print (a) \n",
    "print ('\\n') \n",
    "\n",
    "print ('After applying the flat function:' )\n",
    "# returns element corresponding to index in flattened array \n",
    "print (a.flat[0:5])"
   ]
  },
  {
   "cell_type": "code",
   "execution_count": 4,
   "metadata": {
    "collapsed": true
   },
   "outputs": [],
   "source": [
    "#Flatten"
   ]
  },
  {
   "cell_type": "code",
   "execution_count": 5,
   "metadata": {},
   "outputs": [
    {
     "name": "stdout",
     "output_type": "stream",
     "text": [
      "The original array is:\n",
      "[[0 1 2 3]\n",
      " [4 5 6 7]]\n",
      "\n",
      "\n",
      "The flattened array is:\n",
      "[0 1 2 3 4 5 6 7]\n",
      "\n",
      "\n",
      "The flattened array in F-style ordering:\n",
      "[0 4 1 5 2 6 3 7]\n"
     ]
    }
   ],
   "source": [
    "import numpy as np \n",
    "a = np.arange(8).reshape(2,4) \n",
    "\n",
    "print ('The original array is:') \n",
    "print (a) \n",
    "print ('\\n')  \n",
    "# default is column-major \n",
    "\n",
    "print ('The flattened array is:') \n",
    "print (a.flatten() )\n",
    "print ('\\n')  \n",
    "\n",
    "print ('The flattened array in F-style ordering:') \n",
    "print (a.flatten(order = 'F'))\n"
   ]
  },
  {
   "cell_type": "code",
   "execution_count": 6,
   "metadata": {
    "collapsed": true
   },
   "outputs": [],
   "source": [
    "#ravel"
   ]
  },
  {
   "cell_type": "code",
   "execution_count": 7,
   "metadata": {},
   "outputs": [
    {
     "name": "stdout",
     "output_type": "stream",
     "text": [
      "The original array is:\n",
      "[[0 1 2 3]\n",
      " [4 5 6 7]]\n",
      "\n",
      "\n",
      "After applying ravel function:\n",
      "[0 1 2 3 4 5 6 7]\n",
      "\n",
      "\n",
      "Applying ravel function in F-style ordering:\n",
      "[0 4 1 5 2 6 3 7]\n"
     ]
    }
   ],
   "source": [
    "import numpy as np \n",
    "a = np.arange(8).reshape(2,4) \n",
    "\n",
    "print ('The original array is:') \n",
    "print (a) \n",
    "print ('\\n')  \n",
    "\n",
    "print ('After applying ravel function:') \n",
    "print (a.ravel() ) \n",
    "print ('\\n') \n",
    "\n",
    "print ('Applying ravel function in F-style ordering:') \n",
    "print (a.ravel(order = 'F'))"
   ]
  },
  {
   "cell_type": "markdown",
   "metadata": {},
   "source": [
    "### Transpose Operations"
   ]
  },
  {
   "cell_type": "code",
   "execution_count": 8,
   "metadata": {
    "collapsed": true
   },
   "outputs": [],
   "source": [
    "#transpose"
   ]
  },
  {
   "cell_type": "code",
   "execution_count": 9,
   "metadata": {},
   "outputs": [
    {
     "name": "stdout",
     "output_type": "stream",
     "text": [
      "The original array is:\n",
      "[[ 0  1  2  3]\n",
      " [ 4  5  6  7]\n",
      " [ 8  9 10 11]]\n",
      "\n",
      "\n",
      "The transposed array is:\n",
      "[[ 0  4  8]\n",
      " [ 1  5  9]\n",
      " [ 2  6 10]\n",
      " [ 3  7 11]]\n"
     ]
    }
   ],
   "source": [
    "import numpy as np \n",
    "a = np.arange(12).reshape(3,4) \n",
    "\n",
    "print ('The original array is:') \n",
    "print (a)  \n",
    "print ('\\n') \n",
    "\n",
    "print ('The transposed array is:') \n",
    "print (np.transpose(a))"
   ]
  },
  {
   "cell_type": "code",
   "execution_count": 10,
   "metadata": {
    "collapsed": true
   },
   "outputs": [],
   "source": [
    "#ndarray.T"
   ]
  },
  {
   "cell_type": "code",
   "execution_count": 11,
   "metadata": {},
   "outputs": [
    {
     "name": "stdout",
     "output_type": "stream",
     "text": [
      "The original array is:\n",
      "[[ 0  1  2  3]\n",
      " [ 4  5  6  7]\n",
      " [ 8  9 10 11]]\n",
      "\n",
      "\n",
      "Array after applying the function:\n",
      "[[ 0  4  8]\n",
      " [ 1  5  9]\n",
      " [ 2  6 10]\n",
      " [ 3  7 11]]\n"
     ]
    }
   ],
   "source": [
    "import numpy as np \n",
    "a = np.arange(12).reshape(3,4) \n",
    "\n",
    "print ('The original array is:') \n",
    "print (a) \n",
    "print ('\\n')  \n",
    "\n",
    "print ('Array after applying the function:' )\n",
    "print (a.T)"
   ]
  },
  {
   "cell_type": "markdown",
   "metadata": {},
   "source": [
    "### Joining Arrays"
   ]
  },
  {
   "cell_type": "code",
   "execution_count": 12,
   "metadata": {
    "collapsed": true
   },
   "outputs": [],
   "source": [
    "#Concatenate"
   ]
  },
  {
   "cell_type": "code",
   "execution_count": 13,
   "metadata": {
    "scrolled": true
   },
   "outputs": [
    {
     "name": "stdout",
     "output_type": "stream",
     "text": [
      "First array:\n",
      "[[1 2]\n",
      " [3 4]]\n",
      "\n",
      "\n",
      "Second array:\n",
      "[[5 6]\n",
      " [7 8]]\n",
      "\n",
      "\n",
      "Joining the two arrays along axis 0:\n",
      "[[1 2]\n",
      " [3 4]\n",
      " [5 6]\n",
      " [7 8]]\n",
      "\n",
      "\n",
      "Joining the two arrays along axis 1:\n",
      "[[1 2 5 6]\n",
      " [3 4 7 8]]\n"
     ]
    }
   ],
   "source": [
    "import numpy as np \n",
    "a = np.array([[1,2],[3,4]]) \n",
    "\n",
    "print ('First array:') \n",
    "print (a) \n",
    "print ('\\n')  \n",
    "b = np.array([[5,6],[7,8]]) \n",
    "\n",
    "print ('Second array:') \n",
    "print (b) \n",
    "print ('\\n')  \n",
    "# both the arrays are of same dimensions \n",
    "\n",
    "print ('Joining the two arrays along axis 0:') \n",
    "print (np.concatenate((a,b))) # the first running vertically downwards across rows\n",
    "print ('\\n')  \n",
    "\n",
    "print ('Joining the two arrays along axis 1:')\n",
    "print (np.concatenate((a,b),axis = 1))#the second running horizontally across columns\n",
    "\n"
   ]
  },
  {
   "cell_type": "code",
   "execution_count": 14,
   "metadata": {
    "collapsed": true
   },
   "outputs": [],
   "source": [
    "b=np.concatenate((a,b),axis = 1)"
   ]
  },
  {
   "cell_type": "code",
   "execution_count": 15,
   "metadata": {},
   "outputs": [
    {
     "data": {
      "text/plain": [
       "(2, 4)"
      ]
     },
     "execution_count": 15,
     "metadata": {},
     "output_type": "execute_result"
    }
   ],
   "source": [
    "b.shape"
   ]
  },
  {
   "cell_type": "code",
   "execution_count": 32,
   "metadata": {
    "collapsed": true
   },
   "outputs": [],
   "source": [
    "#stack"
   ]
  },
  {
   "cell_type": "code",
   "execution_count": 22,
   "metadata": {},
   "outputs": [
    {
     "name": "stdout",
     "output_type": "stream",
     "text": [
      "[[1 2]\n",
      " [3 4]]\n",
      "\n",
      "\n",
      "[[5 6]\n",
      " [7 8]]\n",
      "\n",
      "\n",
      "Stack the two arrays along axis 0:\n",
      "[[[1 2]\n",
      "  [3 4]]\n",
      "\n",
      " [[5 6]\n",
      "  [7 8]]]\n",
      "(2, 2, 2)\n",
      "\n",
      "\n",
      "Stack the two arrays along axis 1:\n",
      "[[[1 2]\n",
      "  [5 6]]\n",
      "\n",
      " [[3 4]\n",
      "  [7 8]]]\n"
     ]
    }
   ],
   "source": [
    "a = np.array([[1,2],[3,4]])\n",
    "\n",
    "b = np.array([[5,6],[7,8]])\n",
    "print(a)\n",
    "print('\\n')\n",
    "print(b)\n",
    "print('\\n')\n",
    "print ('Stack the two arrays along axis 0:') \n",
    "print (np.stack((a,b),0) )\n",
    "c=np.stack((a,b),0)\n",
    "print(c.shape)\n",
    "print('\\n')\n",
    "print ('Stack the two arrays along axis 1:') \n",
    "print (np.stack((a,b),1))\n",
    "\n"
   ]
  },
  {
   "cell_type": "code",
   "execution_count": 23,
   "metadata": {
    "collapsed": true
   },
   "outputs": [],
   "source": [
    "#hstack"
   ]
  },
  {
   "cell_type": "code",
   "execution_count": 25,
   "metadata": {},
   "outputs": [
    {
     "name": "stdout",
     "output_type": "stream",
     "text": [
      "[[1 2]\n",
      " [3 4]]\n",
      "Second array:\n",
      "[[5 6]\n",
      " [7 8]]\n",
      "\n",
      "\n",
      "Horizontal stacking:\n",
      "[[1 2 5 6]\n",
      " [3 4 7 8]]\n",
      "[[1 2]\n",
      " [3 4]\n",
      " [5 6]\n",
      " [7 8]]\n"
     ]
    }
   ],
   "source": [
    "import numpy as np \n",
    "a = np.array([[1,2],[3,4]]) \n",
    "\n",
    " \n",
    "print (a)   \n",
    "b = np.array([[5,6],[7,8]]) \n",
    "\n",
    "print ('Second array:') \n",
    "print (b) \n",
    "  \n",
    "print('\\n')\n",
    "print ('Horizontal stacking:' )\n",
    "c = np.hstack((a,b)) \n",
    "print (c )\n",
    "\n",
    "d= np.vstack((a,b)) \n",
    "print (d )"
   ]
  },
  {
   "cell_type": "markdown",
   "metadata": {},
   "source": [
    "### Array spliting"
   ]
  },
  {
   "cell_type": "code",
   "execution_count": 42,
   "metadata": {
    "collapsed": true
   },
   "outputs": [],
   "source": [
    "#numpy.split(ary, indices_or_sections, axis)"
   ]
  },
  {
   "cell_type": "code",
   "execution_count": 39,
   "metadata": {},
   "outputs": [
    {
     "name": "stdout",
     "output_type": "stream",
     "text": [
      "[0 1 2 3 4 5 6 7 8]\n",
      "\n",
      "\n",
      "Split the array in 3 equal-sized subarrays:\n",
      "[array([0, 1, 2]), array([3, 4, 5]), array([6, 7, 8])]\n",
      "\n",
      "\n",
      "Split the array at positions indicated in 1-D array:\n",
      "[array([0, 1, 2, 3]), array([4, 5, 6, 7, 8])]\n",
      "\n",
      "\n"
     ]
    }
   ],
   "source": [
    "import numpy as np \n",
    "a = np.arange(9) \n",
    "\n",
    "print (a) \n",
    "print('\\n')\n",
    "print ('Split the array in 3 equal-sized subarrays:' )\n",
    "b = np.split(a,3) \n",
    "print (b)  \n",
    "print('\\n')\n",
    "print ('Split the array at positions indicated in 1-D array:' )\n",
    "b = np.split(a,[4])\n",
    "print (b )\n",
    "print('\\n')\n",
    "#np.array_split(b,2)"
   ]
  },
  {
   "cell_type": "markdown",
   "metadata": {},
   "source": [
    "The numpy.hsplit is a special case of split() function where axis is 1 indicating a horizontal split regardless of the dimension of the input array."
   ]
  },
  {
   "cell_type": "code",
   "execution_count": 46,
   "metadata": {
    "collapsed": true
   },
   "outputs": [],
   "source": [
    "#numpy.hsplit"
   ]
  },
  {
   "cell_type": "code",
   "execution_count": 40,
   "metadata": {},
   "outputs": [
    {
     "name": "stdout",
     "output_type": "stream",
     "text": [
      "First array:\n",
      "[[ 0  1  2  3]\n",
      " [ 4  5  6  7]\n",
      " [ 8  9 10 11]\n",
      " [12 13 14 15]]\n",
      "\n",
      "\n",
      "Horizontal splitting:\n",
      "[array([[ 0,  1],\n",
      "       [ 4,  5],\n",
      "       [ 8,  9],\n",
      "       [12, 13]]), array([[ 2,  3],\n",
      "       [ 6,  7],\n",
      "       [10, 11],\n",
      "       [14, 15]])]\n",
      "\n",
      "\n"
     ]
    },
    {
     "data": {
      "text/plain": [
       "2"
      ]
     },
     "execution_count": 40,
     "metadata": {},
     "output_type": "execute_result"
    }
   ],
   "source": [
    "import numpy as np \n",
    "a = np.arange(16).reshape(4,4) \n",
    "\n",
    "print ('First array:') \n",
    "print (a) \n",
    "print ('\\n')  \n",
    "\n",
    "print ('Horizontal splitting:' )\n",
    "b = np.hsplit(a,2) \n",
    "print (b) \n",
    "print ('\\n')\n",
    "len(b)"
   ]
  },
  {
   "cell_type": "code",
   "execution_count": 49,
   "metadata": {
    "collapsed": true
   },
   "outputs": [],
   "source": [
    "#do vstack on ur own"
   ]
  },
  {
   "cell_type": "markdown",
   "metadata": {},
   "source": [
    "### Adding/Removing Elements"
   ]
  },
  {
   "cell_type": "code",
   "execution_count": 50,
   "metadata": {
    "collapsed": true
   },
   "outputs": [],
   "source": [
    "#resize"
   ]
  },
  {
   "cell_type": "code",
   "execution_count": 53,
   "metadata": {},
   "outputs": [
    {
     "name": "stdout",
     "output_type": "stream",
     "text": [
      "First array:\n",
      "[[1 2 3]\n",
      " [4 5 6]]\n",
      "(2, 3)\n",
      "\n",
      "\n",
      "Second array:\n",
      "[[1 2]\n",
      " [3 4]\n",
      " [5 6]]\n",
      "(3, 2)\n",
      "Resize the second array:\n",
      "[[1 2 3]\n",
      " [4 5 6]\n",
      " [1 2 3]]\n",
      "\n",
      "\n",
      "[[1 2 3 4]\n",
      " [5 6 1 2]\n",
      " [3 4 5 6]\n",
      " [1 2 3 4]]\n"
     ]
    }
   ],
   "source": [
    "import numpy as np \n",
    "a = np.array([[1,2,3],[4,5,6]]) \n",
    "\n",
    "print ('First array:') \n",
    "print (a) \n",
    "\n",
    "print (a.shape) \n",
    "print ('\\n')  \n",
    "b = np.resize(a, (3,2)) \n",
    "\n",
    "print ('Second array:' )\n",
    "print (b) \n",
    " \n",
    "\n",
    "print (b.shape) \n",
    "\n",
    "# Observe that first row of a is repeated in b since size is bigger \n",
    "\n",
    "print ('Resize the second array:') \n",
    "b = np.resize(a,(3,3)) \n",
    "print (b)\n",
    "\n",
    "b = np.resize(a,(4,4)) \n",
    "print('\\n')\n",
    "print (b)"
   ]
  },
  {
   "cell_type": "code",
   "execution_count": 52,
   "metadata": {
    "collapsed": true
   },
   "outputs": [],
   "source": [
    "#append"
   ]
  },
  {
   "cell_type": "code",
   "execution_count": 53,
   "metadata": {},
   "outputs": [
    {
     "name": "stdout",
     "output_type": "stream",
     "text": [
      "First array:\n",
      "[[1 2 3]\n",
      " [4 5 6]]\n",
      "\n",
      "\n",
      "Append elements to array:\n",
      "[1 2 3 4 5 6 7 8 9]\n",
      "\n",
      "\n",
      "Append elements along axis 0:\n",
      "[[1 2 3]\n",
      " [4 5 6]\n",
      " [7 8 9]]\n",
      "\n",
      "\n",
      "Append elements along axis 1:\n",
      "[[1 2 3 5 5 5]\n",
      " [4 5 6 7 8 9]]\n"
     ]
    }
   ],
   "source": [
    "import numpy as np \n",
    "a = np.array([[1,2,3],[4,5,6]]) \n",
    "\n",
    "print ('First array:' )\n",
    "print (a) \n",
    "print ('\\n'  )\n",
    "\n",
    "print ('Append elements to array:') \n",
    "print (np.append(a, [7,8,9])) \n",
    "print ('\\n')  \n",
    "\n",
    "print ('Append elements along axis 0:') \n",
    "print (np.append(a, [[7,8,9]],axis = 0)) \n",
    "print ('\\n')  \n",
    "\n",
    "print ('Append elements along axis 1:') \n",
    "print (np.append(a, [[5,5,5],[7,8,9]],axis = 1))"
   ]
  },
  {
   "cell_type": "code",
   "execution_count": 54,
   "metadata": {
    "collapsed": true
   },
   "outputs": [],
   "source": [
    "#unique"
   ]
  },
  {
   "cell_type": "code",
   "execution_count": 47,
   "metadata": {
    "scrolled": true
   },
   "outputs": [
    {
     "name": "stdout",
     "output_type": "stream",
     "text": [
      "First array:\n",
      "[5 2 6 2 7 5 6 8 2 9]\n",
      "Unique values of first array:\n",
      "[2 5 6 7 8 9]\n",
      "\n",
      "\n",
      "Unique array and Indices array:\n",
      "[2 5 6 7 8 9] [1 0 2 4 7 9]\n",
      "\n",
      "\n"
     ]
    },
    {
     "data": {
      "text/plain": [
       "array([2, 5, 6, 7, 8, 9])"
      ]
     },
     "execution_count": 47,
     "metadata": {},
     "output_type": "execute_result"
    }
   ],
   "source": [
    "import numpy as np \n",
    "a = np.array([5,2,6,2,7,5,6,8,2,9]) \n",
    "\n",
    "print ('First array:') \n",
    "print (a )\n",
    "  \n",
    "\n",
    "print ('Unique values of first array:') \n",
    "u = np.unique(a) \n",
    "print( u )\n",
    "print ('\\n'  )\n",
    "\n",
    "print ('Unique array and Indices array:' )\n",
    "u,indices = np.unique(a, return_index = True) \n",
    "print (u,indices )\n",
    "print ('\\n')  \n",
    "\n",
    "a[indices]"
   ]
  },
  {
   "cell_type": "code",
   "execution_count": 50,
   "metadata": {},
   "outputs": [
    {
     "name": "stdout",
     "output_type": "stream",
     "text": [
      "We can see each number corresponds to index in original array:\n",
      "[5 2 6 2 7 5 6 8 2 9]\n",
      "\n",
      "\n",
      "Indices of unique array:\n",
      "[2 5 6 7 8 9] [1 0 2 0 3 1 2 4 0 5]\n",
      "\n",
      "\n",
      "Indices are:\n",
      "[2 5 6 7 8 9] [1 0 2 0 3 1 2 4 0 5]\n",
      "\n",
      "\n",
      "Reconstruct the original array using indices:\n",
      "[5 2 6 2 7 5 6 8 2 9]\n",
      "\n",
      "\n",
      "Return the count of repetitions of unique elements:\n",
      "[2 5 6 7 8 9]\n",
      "[3 2 2 1 1 1]\n"
     ]
    }
   ],
   "source": [
    "print ('We can see each number corresponds to index in original array:' )\n",
    "print (a) \n",
    "print ('\\n')  \n",
    "\n",
    "print ('Indices of unique array:' )\n",
    "u,indices = np.unique(a,return_inverse = True) \n",
    "print (u,indices )\n",
    "print ('\\n' )\n",
    "\n",
    "print ('Indices are:' )\n",
    "print (u,indices )\n",
    "print ('\\n')  \n",
    "\n",
    "print ('Reconstruct the original array using indices:') \n",
    "print (u[indices]) \n",
    "print ('\\n' ) \n",
    "\n",
    "print ('Return the count of repetitions of unique elements:') \n",
    "u,indices = np.unique(a,return_counts = True) \n",
    "print (u )\n",
    "print (indices)"
   ]
  },
  {
   "cell_type": "code",
   "execution_count": 57,
   "metadata": {
    "collapsed": true
   },
   "outputs": [],
   "source": [
    "#delete\n",
    "#Numpy.delete(arr, obj, axis)"
   ]
  },
  {
   "cell_type": "code",
   "execution_count": 58,
   "metadata": {},
   "outputs": [
    {
     "name": "stdout",
     "output_type": "stream",
     "text": [
      "First array:\n",
      "[[ 0  1  2  3]\n",
      " [ 4  5  6  7]\n",
      " [ 8  9 10 11]]\n",
      "\n",
      "\n",
      "Array flattened before delete operation as axis not used:\n",
      "[ 0  1  2  3  4  6  7  8  9 10 11]\n",
      "\n",
      "\n",
      "Column 2 deleted:\n",
      "[[ 0  2  3]\n",
      " [ 4  6  7]\n",
      " [ 8 10 11]]\n",
      "\n",
      "\n",
      "A slice containing alternate values from array deleted:\n",
      "[ 2  4  6  8 10]\n"
     ]
    }
   ],
   "source": [
    "import numpy as np \n",
    "a = np.arange(12).reshape(3,4) \n",
    "\n",
    "print( 'First array:' )\n",
    "print (a) \n",
    "print ('\\n'  )\n",
    "\n",
    "print ('Array flattened before delete operation as axis not used:' )\n",
    "print (np.delete(a,5)) \n",
    "print ('\\n')  \n",
    "\n",
    "print ('Column 2 deleted:'  )\n",
    "print (np.delete(a,1,axis = 1) )\n",
    "print ('\\n' ) \n",
    "\n",
    "print ('A slice containing alternate values from array deleted:') \n",
    "a = np.array([1,2,3,4,5,6,7,8,9,10]) \n",
    "print (np.delete(a, np.s_[::2]))"
   ]
  },
  {
   "cell_type": "code",
   "execution_count": 54,
   "metadata": {
    "collapsed": true
   },
   "outputs": [],
   "source": [
    "a=np.arange(10)"
   ]
  },
  {
   "cell_type": "code",
   "execution_count": 58,
   "metadata": {},
   "outputs": [
    {
     "data": {
      "text/plain": [
       "[array([0, 1, 2]), array([3, 4, 5]), array([6, 7]), array([8, 9])]"
      ]
     },
     "execution_count": 58,
     "metadata": {},
     "output_type": "execute_result"
    }
   ],
   "source": [
    "np.array_split(df,4)"
   ]
  },
  {
   "cell_type": "code",
   "execution_count": null,
   "metadata": {
    "collapsed": true
   },
   "outputs": [],
   "source": []
  }
 ],
 "metadata": {
  "kernelspec": {
   "display_name": "Python 3",
   "language": "python",
   "name": "python3"
  },
  "language_info": {
   "codemirror_mode": {
    "name": "ipython",
    "version": 3
   },
   "file_extension": ".py",
   "mimetype": "text/x-python",
   "name": "python",
   "nbconvert_exporter": "python",
   "pygments_lexer": "ipython3",
   "version": "3.6.3"
  }
 },
 "nbformat": 4,
 "nbformat_minor": 2
}
